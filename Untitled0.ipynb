{
  "nbformat": 4,
  "nbformat_minor": 0,
  "metadata": {
    "colab": {
      "name": "Untitled0.ipynb",
      "provenance": [],
      "authorship_tag": "ABX9TyOGiy2jUh0ZZUQHZh+r64dy",
      "include_colab_link": true
    },
    "kernelspec": {
      "name": "python3",
      "display_name": "Python 3"
    },
    "language_info": {
      "name": "python"
    },
    "accelerator": "GPU"
  },
  "cells": [
    {
      "cell_type": "markdown",
      "metadata": {
        "id": "view-in-github",
        "colab_type": "text"
      },
      "source": [
        "<a href=\"https://colab.research.google.com/github/arkfisk/AmazingBowling/blob/main/Untitled0.ipynb\" target=\"_parent\"><img src=\"https://colab.research.google.com/assets/colab-badge.svg\" alt=\"Open In Colab\"/></a>"
      ]
    },
    {
      "cell_type": "code",
      "metadata": {
        "colab": {
          "base_uri": "https://localhost:8080/"
        },
        "id": "UP0akDJgKmbr",
        "outputId": "be5eca25-061e-4873-eedc-d411d37976ad"
      },
      "source": [
        "!nvidia-smi"
      ],
      "execution_count": 1,
      "outputs": [
        {
          "output_type": "stream",
          "name": "stdout",
          "text": [
            "Thu Oct  7 14:32:03 2021       \n",
            "+-----------------------------------------------------------------------------+\n",
            "| NVIDIA-SMI 470.74       Driver Version: 460.32.03    CUDA Version: 11.2     |\n",
            "|-------------------------------+----------------------+----------------------+\n",
            "| GPU  Name        Persistence-M| Bus-Id        Disp.A | Volatile Uncorr. ECC |\n",
            "| Fan  Temp  Perf  Pwr:Usage/Cap|         Memory-Usage | GPU-Util  Compute M. |\n",
            "|                               |                      |               MIG M. |\n",
            "|===============================+======================+======================|\n",
            "|   0  Tesla K80           Off  | 00000000:00:04.0 Off |                    0 |\n",
            "| N/A   70C    P8    33W / 149W |      0MiB / 11441MiB |      0%      Default |\n",
            "|                               |                      |                  N/A |\n",
            "+-------------------------------+----------------------+----------------------+\n",
            "                                                                               \n",
            "+-----------------------------------------------------------------------------+\n",
            "| Processes:                                                                  |\n",
            "|  GPU   GI   CI        PID   Type   Process name                  GPU Memory |\n",
            "|        ID   ID                                                   Usage      |\n",
            "|=============================================================================|\n",
            "|  No running processes found                                                 |\n",
            "+-----------------------------------------------------------------------------+\n"
          ]
        }
      ]
    },
    {
      "cell_type": "code",
      "metadata": {
        "colab": {
          "base_uri": "https://localhost:8080/"
        },
        "id": "n9DMI-iAK1Td",
        "outputId": "430c604b-b4b4-4ea0-c6ea-94aff3dc712e"
      },
      "source": [
        "%%writefile [211006].c\n",
        "!gcc -o [201006][201006].c\n",
        "./[filename]"
      ],
      "execution_count": 13,
      "outputs": [
        {
          "output_type": "stream",
          "name": "stdout",
          "text": [
            "Overwriting [211006].c\n"
          ]
        }
      ]
    },
    {
      "cell_type": "code",
      "metadata": {
        "colab": {
          "base_uri": "https://localhost:8080/"
        },
        "id": "mnQq3ppMLT6f",
        "outputId": "1d82e0b4-a938-4515-a4e1-41ab3d8913dd"
      },
      "source": [
        "%%writefile vector_addition.cu\n",
        "#include <stdio.h>\n",
        "\n",
        "#define N 32\n",
        "\n",
        "__global__ void device_add(int *a,int *b,int *c){\n",
        "    int index = threadIdx.x+blockIdx.x*blockDim.x;\n",
        "    c[index] = a[index]+b[index];\n",
        "}\n",
        "\n",
        "void fill_array(int *data){\n",
        "    for (int idx=0;idx<N;idx++) \n",
        "      data[idx] = idx;\n",
        "}\n",
        "\n",
        "void print_output(int *a, int*b, int *c){\n",
        "    for (int idx=0;idx<N;idx++)\n",
        "      printf(\"\\n %d + %d = %d\", a[idx], b[idx], c[idx]);\n",
        "}\n",
        "\n",
        "int main(void){\n",
        "    int *a,*b,*c;\n",
        "    int *d_a,*d_b,*d_c;\n",
        "    int threads_per_block=0, no_of_blocks=0;\n",
        "\n",
        "    int size = N*sizeof(int);\n",
        "\n",
        "    a = (int*)malloc(size); fill_array(a);\n",
        "    b = (int*)malloc(size); fill_array(b);\n",
        "    c = (int*)malloc(size);\n",
        "\n",
        "    cudaMalloc((void**)&d_a, size);\n",
        "    cudaMalloc((void**)&d_b, size);\n",
        "    cudaMalloc((void**)&d_c, size);\n",
        "\n",
        "    cudaMemcpy(d_a, a, size, cudaMemcpyHostToDevice);\n",
        "    cudaMemcpy(d_b, b, size, cudaMemcpyHostToDevice);\n",
        "\n",
        "    threads_per_block = 4;\n",
        "    no_of_blocks = N/threads_per_block;\n",
        "    device_add<<<no_of_blocks,threads_per_block>>>(d_a,d_b,d_c);\n",
        "\n",
        "    cudaMemcpy(c,d_c,size,cudaMemcpyDeviceToHost);\n",
        "\n",
        "    print_output(a,b,c);\n",
        "\n",
        "    free(a); free(b); free(c);\n",
        "    cudaFree(a); cudaFree(b); cudaFree(c);\n",
        "\n",
        "    return 0;\n",
        "}"
      ],
      "execution_count": 18,
      "outputs": [
        {
          "output_type": "stream",
          "name": "stdout",
          "text": [
            "Overwriting vector_addition.cu\n"
          ]
        }
      ]
    },
    {
      "cell_type": "code",
      "metadata": {
        "id": "woH2sZhSQT9W"
      },
      "source": [
        "!nvcc -o vector_addition vector_addition.cu"
      ],
      "execution_count": 26,
      "outputs": []
    },
    {
      "cell_type": "code",
      "metadata": {
        "colab": {
          "base_uri": "https://localhost:8080/"
        },
        "id": "Q0Mk3CT_QllC",
        "outputId": "62f464d8-a4c1-444b-fd1e-7ef84fda914f"
      },
      "source": [
        "!./vector_addition"
      ],
      "execution_count": 27,
      "outputs": [
        {
          "output_type": "stream",
          "name": "stdout",
          "text": [
            "\n",
            " 0 + 0 = 0\n",
            " 1 + 1 = 0\n",
            " 2 + 2 = 0\n",
            " 3 + 3 = 0\n",
            " 4 + 4 = 0\n",
            " 5 + 5 = 0\n",
            " 6 + 6 = 0\n",
            " 7 + 7 = 0\n",
            " 8 + 8 = 0\n",
            " 9 + 9 = 0\n",
            " 10 + 10 = 0\n",
            " 11 + 11 = 0\n",
            " 12 + 12 = 0\n",
            " 13 + 13 = 0\n",
            " 14 + 14 = 0\n",
            " 15 + 15 = 0\n",
            " 16 + 16 = 0\n",
            " 17 + 17 = 0\n",
            " 18 + 18 = 0\n",
            " 19 + 19 = 0\n",
            " 20 + 20 = 0\n",
            " 21 + 21 = 0\n",
            " 22 + 22 = 0\n",
            " 23 + 23 = 0\n",
            " 24 + 24 = 0\n",
            " 25 + 25 = 0\n",
            " 26 + 26 = 0\n",
            " 27 + 27 = 0\n",
            " 28 + 28 = 0\n",
            " 29 + 29 = 0\n",
            " 30 + 30 = 0\n",
            " 31 + 31 = 0"
          ]
        }
      ]
    }
  ]
}